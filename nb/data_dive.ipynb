{
 "cells": [
  {
   "cell_type": "code",
   "execution_count": 21,
   "metadata": {
    "collapsed": true
   },
   "outputs": [],
   "source": [
    "import pandas as pd\n",
    "import matplotlib.pyplot as plt\n",
    "from scipy import stats\n",
    "import numpy as np\n",
    "from numpy.random import default_rng"
   ]
  },
  {
   "cell_type": "code",
   "execution_count": 22,
   "outputs": [],
   "source": [
    "rng = default_rng()"
   ],
   "metadata": {
    "collapsed": false
   }
  },
  {
   "cell_type": "code",
   "execution_count": 37,
   "outputs": [],
   "source": [
    "df = pd.read_csv('../data_raw/tripadvisor_hotel_reviews.csv', dtype={'Review':str,'Rating':np.int32})"
   ],
   "metadata": {
    "collapsed": false
   }
  },
  {
   "cell_type": "code",
   "execution_count": 45,
   "outputs": [
    {
     "data": {
      "text/plain": "<Figure size 640x480 with 1 Axes>",
      "image/png": "[encoded data removed]"
     },
     "metadata": {},
     "output_type": "display_data"
    }
   ],
   "source": [
    "plt.hist(df.Rating, bins=[1,2,3,4,5,6])\n",
    "plt.show()"
   ],
   "metadata": {
    "collapsed": false
   }
  },
  {
   "cell_type": "code",
   "execution_count": 39,
   "outputs": [
    {
     "data": {
      "text/plain": "3.952222927138744"
     },
     "execution_count": 39,
     "metadata": {},
     "output_type": "execute_result"
    }
   ],
   "source": [
    "np.mean(df.Rating)"
   ],
   "metadata": {
    "collapsed": false
   }
  },
  {
   "cell_type": "code",
   "execution_count": 40,
   "outputs": [
    {
     "data": {
      "text/plain": "4.0"
     },
     "execution_count": 40,
     "metadata": {},
     "output_type": "execute_result"
    }
   ],
   "source": [
    "np.median(df.Rating)"
   ],
   "metadata": {
    "collapsed": false
   }
  },
  {
   "cell_type": "code",
   "execution_count": 53,
   "outputs": [],
   "source": [
    "def rescore(x):\n",
    "    if x>4:\n",
    "        if rng.random() > 2/3:\n",
    "            x=5\n",
    "        else:\n",
    "            x=4\n",
    "    elif x==4:\n",
    "        x=3\n",
    "    elif x in (2,3):\n",
    "        x=2\n",
    "    else:\n",
    "        x=1\n",
    "    return x"
   ],
   "metadata": {
    "collapsed": false
   }
  },
  {
   "cell_type": "code",
   "execution_count": 54,
   "outputs": [],
   "source": [
    "df['Rescore']=df.Rating.apply(rescore)"
   ],
   "metadata": {
    "collapsed": false
   }
  },
  {
   "cell_type": "code",
   "execution_count": 55,
   "outputs": [
    {
     "data": {
      "text/plain": "<Figure size 640x480 with 1 Axes>",
      "image/png": "[encoded data removed]"
     },
     "metadata": {},
     "output_type": "display_data"
    }
   ],
   "source": [
    "plt.hist(df.Rescore, bins=[1,2,3,4,5,6])\n",
    "plt.show()"
   ],
   "metadata": {
    "collapsed": false
   }
  },
  {
   "cell_type": "code",
   "execution_count": 56,
   "outputs": [
    {
     "data": {
      "text/plain": "                                                  Review  Rating  Rescore\n0      nice hotel expensive parking got good deal sta...       4        3\n1      ok nothing special charge diamond member hilto...       2        2\n2      nice rooms not 4* experience hotel monaco seat...       3        2\n3      unique, great stay, wonderful time hotel monac...       5        5\n4      great stay great stay, went seahawk game aweso...       5        5\n...                                                  ...     ...      ...\n20486  best kept secret 3rd time staying charm, not 5...       5        4\n20487  great location price view hotel great quick pl...       4        3\n20488  ok just looks nice modern outside, desk staff ...       2        2\n20489  hotel theft ruined vacation hotel opened sept ...       1        1\n20490  people talking, ca n't believe excellent ratin...       2        2\n\n[20491 rows x 3 columns]",
      "text/html": "<div>\n<style scoped>\n    .dataframe tbody tr th:only-of-type {\n        vertical-align: middle;\n    }\n\n    .dataframe tbody tr th {\n        vertical-align: top;\n    }\n\n    .dataframe thead th {\n        text-align: right;\n    }\n</style>\n<table border=\"1\" class=\"dataframe\">\n  <thead>\n    <tr style=\"text-align: right;\">\n      <th></th>\n      <th>Review</th>\n      <th>Rating</th>\n      <th>Rescore</th>\n    </tr>\n  </thead>\n  <tbody>\n    <tr>\n      <th>0</th>\n      <td>nice hotel expensive parking got good deal sta...</td>\n      <td>4</td>\n      <td>3</td>\n    </tr>\n    <tr>\n      <th>1</th>\n      <td>ok nothing special charge diamond member hilto...</td>\n      <td>2</td>\n      <td>2</td>\n    </tr>\n    <tr>\n      <th>2</th>\n      <td>nice rooms not 4* experience hotel monaco seat...</td>\n      <td>3</td>\n      <td>2</td>\n    </tr>\n    <tr>\n      <th>3</th>\n      <td>unique, great stay, wonderful time hotel monac...</td>\n      <td>5</td>\n      <td>5</td>\n    </tr>\n    <tr>\n      <th>4</th>\n      <td>great stay great stay, went seahawk game aweso...</td>\n      <td>5</td>\n      <td>5</td>\n    </tr>\n    <tr>\n      <th>...</th>\n      <td>...</td>\n      <td>...</td>\n      <td>...</td>\n    </tr>\n    <tr>\n      <th>20486</th>\n      <td>best kept secret 3rd time staying charm, not 5...</td>\n      <td>5</td>\n      <td>4</td>\n    </tr>\n    <tr>\n      <th>20487</th>\n      <td>great location price view hotel great quick pl...</td>\n      <td>4</td>\n      <td>3</td>\n    </tr>\n    <tr>\n      <th>20488</th>\n      <td>ok just looks nice modern outside, desk staff ...</td>\n      <td>2</td>\n      <td>2</td>\n    </tr>\n    <tr>\n      <th>20489</th>\n      <td>hotel theft ruined vacation hotel opened sept ...</td>\n      <td>1</td>\n      <td>1</td>\n    </tr>\n    <tr>\n      <th>20490</th>\n      <td>people talking, ca n't believe excellent ratin...</td>\n      <td>2</td>\n      <td>2</td>\n    </tr>\n  </tbody>\n</table>\n<p>20491 rows × 3 columns</p>\n</div>"
     },
     "execution_count": 56,
     "metadata": {},
     "output_type": "execute_result"
    }
   ],
   "source": [
    "df"
   ],
   "metadata": {
    "collapsed": false
   }
  },
  {
   "cell_type": "code",
   "execution_count": null,
   "outputs": [],
   "source": [],
   "metadata": {
    "collapsed": false
   }
  }
 ],
 "metadata": {
  "kernelspec": {
   "display_name": "Python 3",
   "language": "python",
   "name": "python3"
  },
  "language_info": {
   "codemirror_mode": {
    "name": "ipython",
    "version": 2
   },
   "file_extension": ".py",
   "mimetype": "text/x-python",
   "name": "python",
   "nbconvert_exporter": "python",
   "pygments_lexer": "ipython2",
   "version": "2.7.6"
  }
 },
 "nbformat": 4,
 "nbformat_minor": 0
}
